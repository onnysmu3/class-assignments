{
 "cells": [
  {
   "cell_type": "markdown",
   "metadata": {},
   "source": [
    ".....\n",
    "\n",
    "these are some the last class presentations "
   ]
  },
  {
   "cell_type": "markdown",
   "metadata": {},
   "source": [
    "*Laura Trejo*\n",
    "**Talking about bird in north america**\n",
    "\n",
    "She performs the distribution of the bird by using R"
   ]
  },
  {
   "cell_type": "markdown",
   "metadata": {},
   "source": [
    "**Study of Aves Species through .. (fosil)**\n",
    "\n",
    "data was downloaded from PBD web page\n",
    "\n",
    "She makes a function and loop to make a dictionary of species, and she uses Rstudio to plot where the species was distributed around the world.\n",
    "\n",
    "the species is distributed on South Korea and Saudi Arabia"
   ]
  },
  {
   "cell_type": "markdown",
   "metadata": {},
   "source": [
    "**Frog: Anura fossil**\n",
    "....\n"
   ]
  },
  {
   "cell_type": "markdown",
   "metadata": {},
   "source": [
    "**Heteromyidae Species Occurrences and DIversity**\n",
    "\n",
    "the species is like small cute kangaroo\n",
    "the species is mainly distributed in north america\n",
    "use matplot lib\n",
    "\n",
    "use ggplot to show species occurrences\n",
    "\n",
    "she also uses "
   ]
  },
  {
   "cell_type": "markdown",
   "metadata": {},
   "source": [
    "**Evolutionary History of Felidae**\n",
    "\n",
    "by Sean\n",
    "\n",
    "Intro:\n",
    "First, he describes the family of Felidae\n",
    "Late meiosin explotion\n",
    "he makes an animation of species distribution, and run it on pyrate"
   ]
  },
  {
   "cell_type": "markdown",
   "metadata": {},
   "source": [
    "**Tiffany: Talking about see otter**\n",
    "\n",
    "she uses fossil data from PBD to measure the extinction rate of species.\n"
   ]
  },
  {
   "cell_type": "code",
   "execution_count": null,
   "metadata": {
    "collapsed": true
   },
   "outputs": [],
   "source": []
  }
 ],
 "metadata": {
  "anaconda-cloud": {},
  "kernelspec": {
   "display_name": "Python [default]",
   "language": "python",
   "name": "python3"
  },
  "language_info": {
   "codemirror_mode": {
    "name": "ipython",
    "version": 3
   },
   "file_extension": ".py",
   "mimetype": "text/x-python",
   "name": "python",
   "nbconvert_exporter": "python",
   "pygments_lexer": "ipython3",
   "version": "3.5.2"
  }
 },
 "nbformat": 4,
 "nbformat_minor": 2
}
