{
 "cells": [
  {
   "cell_type": "markdown",
   "metadata": {
    "collapsed": true
   },
   "source": [
    "# WORKING ON COCOLI FOREST DATASET"
   ]
  },
  {
   "cell_type": "code",
   "execution_count": 1,
   "metadata": {
    "collapsed": true
   },
   "outputs": [],
   "source": [
    "#WHAT DOES THE ENTRY IN THE COLUMN mult2 REFER TO?\n",
    "#WHAT DOES THE ENTRY IN THE COLUMN 'DBH2' REFER TO?\n",
    "#HOW CAN WE FIND THE GENUS AND SPECIES NAME OF THGIS RECORD?\n",
    "#WHAT IS THE GENUS AND SPECIES NAME OF RECORD?"
   ]
  },
  {
   "cell_type": "markdown",
   "metadata": {},
   "source": [
    "GUIDE EXPLORATION OF THE DATA"
   ]
  },
  {
   "cell_type": "markdown",
   "metadata": {
    "collapsed": true
   },
   "source": [
    "#WHICH GENUS IS THE MOST SPECIES-RICH IN THIS COMMUNITY?\n",
    "sed 's/\\s/,/g' cocolisp.txt | cut -d \",\" -f 2 | sort | uniq -c | sort -n\n",
    "    #HINT: THE FOLLOWING COMMAND MAY COME IN HANDY TO REFORMAT A FILE: sed 's/\\s/,/g' (replace all whitespace with a sigke comma)\n",
    "\n",
    "#HOW MANY GENERA HAVE JUST ONE SPECIES REPRESENTED IN THIS COMMUNITY?\n",
    "sed 's/\\s/,/g' cocolisp.txt | cut -d \",\" -f 2 | sort | uniq -c | sort -n | grep -w 1 | wc -l"
   ]
  },
  {
   "cell_type": "markdown",
   "metadata": {},
   "source": [
    "#Which individual had the highest yearly RGR between 1994-1998?\n",
    "    #note: remember that in python, dictionaries are unordered collection . How can you sort this?\n",
    "\n",
    "#To which species does this individual belong?"
   ]
  }
 ],
 "metadata": {
  "anaconda-cloud": {},
  "kernelspec": {
   "display_name": "Python [default]",
   "language": "python",
   "name": "python3"
  },
  "language_info": {
   "codemirror_mode": {
    "name": "ipython",
    "version": 3
   },
   "file_extension": ".py",
   "mimetype": "text/x-python",
   "name": "python",
   "nbconvert_exporter": "python",
   "pygments_lexer": "ipython3",
   "version": "3.5.2"
  }
 },
 "nbformat": 4,
 "nbformat_minor": 2
}
