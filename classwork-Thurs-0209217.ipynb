{
 "cells": [
  {
   "cell_type": "markdown",
   "metadata": {},
   "source": [
    "#while loops"
   ]
  },
  {
   "cell_type": "code",
   "execution_count": 2,
   "metadata": {
    "collapsed": true
   },
   "outputs": [],
   "source": [
    "count = 1\n",
    "while count<0:\n",
    "    print(count)\n",
    "    count = count *0"
   ]
  },
  {
   "cell_type": "markdown",
   "metadata": {
    "collapsed": true
   },
   "source": [
    "#If statement"
   ]
  },
  {
   "cell_type": "code",
   "execution_count": 1,
   "metadata": {
    "collapsed": false
   },
   "outputs": [
    {
     "ename": "SyntaxError",
     "evalue": "invalid syntax (<ipython-input-1-08d97ad36ee9>, line 1)",
     "output_type": "error",
     "traceback": [
      "\u001b[0;36m  File \u001b[0;32m\"<ipython-input-1-08d97ad36ee9>\"\u001b[0;36m, line \u001b[0;32m1\u001b[0m\n\u001b[0;31m    expression_level =\u001b[0m\n\u001b[0m                       ^\u001b[0m\n\u001b[0;31mSyntaxError\u001b[0m\u001b[0;31m:\u001b[0m invalid syntax\n"
     ]
    }
   ],
   "source": [
    "expression_level = "
   ]
  },
  {
   "cell_type": "code",
   "execution_count": 2,
   "metadata": {
    "collapsed": false
   },
   "outputs": [
    {
     "name": "stdout",
     "output_type": "stream",
     "text": [
      "Not divisible by 2\n"
     ]
    }
   ],
   "source": [
    "x = 4\n",
    "if x % 2 == 8:\n",
    "    print(\"Divisible by 2\")\n",
    "else:\n",
    "    print(\"Not divisible by 2\")"
   ]
  },
  {
   "cell_type": "code",
   "execution_count": null,
   "metadata": {
    "collapsed": true
   },
   "outputs": [],
   "source": [
    "file1 = open(\"one.txt\", \"w\")\n",
    "file2 = open(\"two.txt\", \"w\")\n",
    "accs = ['ab56', 'bh84', 'ay93', 'ap97', 'bd72']\n",
    "for accessment in accs:\n",
    "    if accs.startswith ()"
   ]
  },
  {
   "cell_type": "code",
   "execution_count": null,
   "metadata": {
    "collapsed": true
   },
   "outputs": [],
   "source": [
    "cat \"filename\" |tr \"\\r\" \"\\n\" > \"new file name\""
   ]
  },
  {
   "cell_type": "code",
   "execution_count": 1,
   "metadata": {
    "collapsed": false
   },
   "outputs": [
    {
     "name": "stdout",
     "output_type": "stream",
     "text": [
      "What is the temperature in Fahrenheit? 57\n",
      "The temperature in Celsius is 13.88888888888889\n"
     ]
    }
   ],
   "source": [
    "xx = input(\"What is the temperature in Fahrenheit? \")\n",
    "yy = (float(xx) - 32) * 5/9\n",
    "print(\"The temperature in Celsius is {}\".format(yy))"
   ]
  },
  {
   "cell_type": "code",
   "execution_count": 2,
   "metadata": {
    "collapsed": true
   },
   "outputs": [],
   "source": [
    "# set password\n",
    "# ask user to try, to guess the password\n",
    "# if the password is wrong, say \"Access Denied\"\n",
    "# if the password is right, say \"Login successful\""
   ]
  },
  {
   "cell_type": "code",
   "execution_count": 5,
   "metadata": {
    "collapsed": false
   },
   "outputs": [
    {
     "name": "stdout",
     "output_type": "stream",
     "text": [
      "Enter a password: goodmorning\n",
      "Access Denied!!\n",
      "Enter a password: goood\n",
      "Access Denied!!\n",
      "Enter a password: sesame\n",
      "Login Successful.\n"
     ]
    }
   ],
   "source": [
    "password = (\"sesame\")\n",
    "hello = input(\"Enter a password: \")\n",
    "while hello != password:\n",
    "    print(\"Access Denied!!\")\n",
    "    hello = input(\"Enter a password: \")\n",
    "    if hello == password:\n",
    "        print(\"Login Successful.\")"
   ]
  },
  {
   "cell_type": "code",
   "execution_count": null,
   "metadata": {
    "collapsed": true
   },
   "outputs": [],
   "source": []
  }
 ],
 "metadata": {
  "anaconda-cloud": {},
  "kernelspec": {
   "display_name": "Python [default]",
   "language": "python",
   "name": "python3"
  },
  "language_info": {
   "codemirror_mode": {
    "name": "ipython",
    "version": 3
   },
   "file_extension": ".py",
   "mimetype": "text/x-python",
   "name": "python",
   "nbconvert_exporter": "python",
   "pygments_lexer": "ipython3",
   "version": "3.5.2"
  }
 },
 "nbformat": 4,
 "nbformat_minor": 2
}
